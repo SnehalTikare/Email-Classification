{
 "cells": [
  {
   "cell_type": "code",
   "execution_count": 1,
   "metadata": {},
   "outputs": [],
   "source": [
    "import pandas as pd\n",
    "import string\n",
    "import re\n",
    "import nltk\n",
    "from nltk.corpus import stopwords"
   ]
  },
  {
   "cell_type": "code",
   "execution_count": 2,
   "metadata": {},
   "outputs": [],
   "source": [
    "rawData = open('SMSSpamCollection.tsv').read()"
   ]
  },
  {
   "cell_type": "code",
   "execution_count": 3,
   "metadata": {},
   "outputs": [
    {
     "data": {
      "text/plain": [
       "\"ham\\tI've been searching for the right words to thank you for this breather. I promise i wont take your help for granted and will fulfil my promise. You have been wonderful and a blessing at all times.\\nspam\\tFree entry in 2 a wkly comp to win FA Cup final tkts 21st May 2005. Text FA to 87121 to receive entry question(std txt rate)T&C's apply 08452810075over18's\\nham\\tNah I don't think he goes to usf, he lives around here though\\nham\\tEven my brother is not like to speak with me. They treat me like aid\""
      ]
     },
     "execution_count": 3,
     "metadata": {},
     "output_type": "execute_result"
    }
   ],
   "source": [
    "rawData[0:500]"
   ]
  },
  {
   "cell_type": "code",
   "execution_count": 4,
   "metadata": {},
   "outputs": [
    {
     "data": {
      "text/plain": [
       "['ham',\n",
       " \"I've been searching for the right words to thank you for this breather. I promise i wont take your help for granted and will fulfil my promise. You have been wonderful and a blessing at all times.\",\n",
       " 'spam',\n",
       " \"Free entry in 2 a wkly comp to win FA Cup final tkts 21st May 2005. Text FA to 87121 to receive entry question(std txt rate)T&C's apply 08452810075over18's\",\n",
       " 'ham']"
      ]
     },
     "execution_count": 4,
     "metadata": {},
     "output_type": "execute_result"
    }
   ],
   "source": [
    "parsedData = rawData.replace('\\t','\\n').split('\\n')\n",
    "parsedData[0:5]"
   ]
  },
  {
   "cell_type": "code",
   "execution_count": 5,
   "metadata": {},
   "outputs": [],
   "source": [
    "labels = parsedData[0::2]"
   ]
  },
  {
   "cell_type": "code",
   "execution_count": 6,
   "metadata": {},
   "outputs": [
    {
     "data": {
      "text/plain": [
       "['ham', 'spam', 'ham', 'ham', 'ham']"
      ]
     },
     "execution_count": 6,
     "metadata": {},
     "output_type": "execute_result"
    }
   ],
   "source": [
    "labels[0:5]"
   ]
  },
  {
   "cell_type": "code",
   "execution_count": 7,
   "metadata": {},
   "outputs": [],
   "source": [
    "data = parsedData[1::2]"
   ]
  },
  {
   "cell_type": "code",
   "execution_count": 8,
   "metadata": {},
   "outputs": [
    {
     "data": {
      "text/plain": [
       "[\"I've been searching for the right words to thank you for this breather. I promise i wont take your help for granted and will fulfil my promise. You have been wonderful and a blessing at all times.\",\n",
       " \"Free entry in 2 a wkly comp to win FA Cup final tkts 21st May 2005. Text FA to 87121 to receive entry question(std txt rate)T&C's apply 08452810075over18's\",\n",
       " \"Nah I don't think he goes to usf, he lives around here though\",\n",
       " 'Even my brother is not like to speak with me. They treat me like aids patent.',\n",
       " 'I HAVE A DATE ON SUNDAY WITH WILL!!']"
      ]
     },
     "execution_count": 8,
     "metadata": {},
     "output_type": "execute_result"
    }
   ],
   "source": [
    "data[0:5]"
   ]
  },
  {
   "cell_type": "code",
   "execution_count": 9,
   "metadata": {},
   "outputs": [
    {
     "name": "stdout",
     "output_type": "stream",
     "text": [
      "5571\n",
      "5570\n"
     ]
    }
   ],
   "source": [
    "print(len(labels))\n",
    "print(len(data))\n"
   ]
  },
  {
   "cell_type": "code",
   "execution_count": 10,
   "metadata": {},
   "outputs": [
    {
     "data": {
      "text/plain": [
       "['ham', 'ham', 'ham', 'ham', '']"
      ]
     },
     "execution_count": 10,
     "metadata": {},
     "output_type": "execute_result"
    }
   ],
   "source": [
    "labels[-5:]"
   ]
  },
  {
   "cell_type": "code",
   "execution_count": 11,
   "metadata": {},
   "outputs": [],
   "source": [
    "db = pd.DataFrame({'label':labels[:-1],\n",
    "                   'data':data\n",
    "    \n",
    "})"
   ]
  },
  {
   "cell_type": "code",
   "execution_count": 12,
   "metadata": {},
   "outputs": [
    {
     "data": {
      "text/html": [
       "<div>\n",
       "<style scoped>\n",
       "    .dataframe tbody tr th:only-of-type {\n",
       "        vertical-align: middle;\n",
       "    }\n",
       "\n",
       "    .dataframe tbody tr th {\n",
       "        vertical-align: top;\n",
       "    }\n",
       "\n",
       "    .dataframe thead th {\n",
       "        text-align: right;\n",
       "    }\n",
       "</style>\n",
       "<table border=\"1\" class=\"dataframe\">\n",
       "  <thead>\n",
       "    <tr style=\"text-align: right;\">\n",
       "      <th></th>\n",
       "      <th>label</th>\n",
       "      <th>data</th>\n",
       "    </tr>\n",
       "  </thead>\n",
       "  <tbody>\n",
       "    <tr>\n",
       "      <td>0</td>\n",
       "      <td>ham</td>\n",
       "      <td>I've been searching for the right words to tha...</td>\n",
       "    </tr>\n",
       "    <tr>\n",
       "      <td>1</td>\n",
       "      <td>spam</td>\n",
       "      <td>Free entry in 2 a wkly comp to win FA Cup fina...</td>\n",
       "    </tr>\n",
       "    <tr>\n",
       "      <td>2</td>\n",
       "      <td>ham</td>\n",
       "      <td>Nah I don't think he goes to usf, he lives aro...</td>\n",
       "    </tr>\n",
       "    <tr>\n",
       "      <td>3</td>\n",
       "      <td>ham</td>\n",
       "      <td>Even my brother is not like to speak with me. ...</td>\n",
       "    </tr>\n",
       "    <tr>\n",
       "      <td>4</td>\n",
       "      <td>ham</td>\n",
       "      <td>I HAVE A DATE ON SUNDAY WITH WILL!!</td>\n",
       "    </tr>\n",
       "  </tbody>\n",
       "</table>\n",
       "</div>"
      ],
      "text/plain": [
       "  label                                               data\n",
       "0   ham  I've been searching for the right words to tha...\n",
       "1  spam  Free entry in 2 a wkly comp to win FA Cup fina...\n",
       "2   ham  Nah I don't think he goes to usf, he lives aro...\n",
       "3   ham  Even my brother is not like to speak with me. ...\n",
       "4   ham                I HAVE A DATE ON SUNDAY WITH WILL!!"
      ]
     },
     "execution_count": 12,
     "metadata": {},
     "output_type": "execute_result"
    }
   ],
   "source": [
    "db.head()"
   ]
  },
  {
   "cell_type": "code",
   "execution_count": 13,
   "metadata": {},
   "outputs": [],
   "source": [
    "dtext = pd.read_csv('SMSSpamCollection.tsv',sep='\\t',header= None)\n"
   ]
  },
  {
   "cell_type": "code",
   "execution_count": 14,
   "metadata": {},
   "outputs": [
    {
     "data": {
      "text/html": [
       "<div>\n",
       "<style scoped>\n",
       "    .dataframe tbody tr th:only-of-type {\n",
       "        vertical-align: middle;\n",
       "    }\n",
       "\n",
       "    .dataframe tbody tr th {\n",
       "        vertical-align: top;\n",
       "    }\n",
       "\n",
       "    .dataframe thead th {\n",
       "        text-align: right;\n",
       "    }\n",
       "</style>\n",
       "<table border=\"1\" class=\"dataframe\">\n",
       "  <thead>\n",
       "    <tr style=\"text-align: right;\">\n",
       "      <th></th>\n",
       "      <th>label</th>\n",
       "      <th>data</th>\n",
       "    </tr>\n",
       "  </thead>\n",
       "  <tbody>\n",
       "    <tr>\n",
       "      <td>0</td>\n",
       "      <td>ham</td>\n",
       "      <td>I've been searching for the right words to tha...</td>\n",
       "    </tr>\n",
       "    <tr>\n",
       "      <td>1</td>\n",
       "      <td>spam</td>\n",
       "      <td>Free entry in 2 a wkly comp to win FA Cup fina...</td>\n",
       "    </tr>\n",
       "    <tr>\n",
       "      <td>2</td>\n",
       "      <td>ham</td>\n",
       "      <td>Nah I don't think he goes to usf, he lives aro...</td>\n",
       "    </tr>\n",
       "    <tr>\n",
       "      <td>3</td>\n",
       "      <td>ham</td>\n",
       "      <td>Even my brother is not like to speak with me. ...</td>\n",
       "    </tr>\n",
       "    <tr>\n",
       "      <td>4</td>\n",
       "      <td>ham</td>\n",
       "      <td>I HAVE A DATE ON SUNDAY WITH WILL!!</td>\n",
       "    </tr>\n",
       "  </tbody>\n",
       "</table>\n",
       "</div>"
      ],
      "text/plain": [
       "  label                                               data\n",
       "0   ham  I've been searching for the right words to tha...\n",
       "1  spam  Free entry in 2 a wkly comp to win FA Cup fina...\n",
       "2   ham  Nah I don't think he goes to usf, he lives aro...\n",
       "3   ham  Even my brother is not like to speak with me. ...\n",
       "4   ham                I HAVE A DATE ON SUNDAY WITH WILL!!"
      ]
     },
     "execution_count": 14,
     "metadata": {},
     "output_type": "execute_result"
    }
   ],
   "source": [
    "dtext.columns = ['label','data']\n",
    "raw_dtext = dtext\n",
    "dtext.head()"
   ]
  },
  {
   "cell_type": "code",
   "execution_count": 15,
   "metadata": {},
   "outputs": [
    {
     "name": "stdout",
     "output_type": "stream",
     "text": [
      "Input has 5568 rows and 2 columns\n"
     ]
    }
   ],
   "source": [
    "print(\"Input has {} rows and {} columns\".format(len(dtext),len(dtext.columns)))"
   ]
  },
  {
   "cell_type": "code",
   "execution_count": 16,
   "metadata": {},
   "outputs": [
    {
     "name": "stdout",
     "output_type": "stream",
     "text": [
      "No of ham texts are 4822 and spam text are 746\n"
     ]
    }
   ],
   "source": [
    "print(\"No of ham texts are {} and spam text are {}\".format(len(dtext[dtext['label']=='ham']),\n",
    "                                                           len(dtext[dtext['label']=='spam'])))"
   ]
  },
  {
   "cell_type": "code",
   "execution_count": 17,
   "metadata": {},
   "outputs": [
    {
     "name": "stdout",
     "output_type": "stream",
     "text": [
      "No of missing labels 0\n",
      "No of missing data 0\n"
     ]
    }
   ],
   "source": [
    "print(\"No of missing labels {}\".format(dtext['label'].isnull().sum()))\n",
    "print(\"No of missing data {}\".format(dtext['data'].isnull().sum()))"
   ]
  },
  {
   "cell_type": "markdown",
   "metadata": {},
   "source": [
    "# Clean data - Remove Punctuation, Tokenize, Stopword Removal,Stemming"
   ]
  },
  {
   "cell_type": "code",
   "execution_count": 18,
   "metadata": {},
   "outputs": [
    {
     "data": {
      "text/html": [
       "<div>\n",
       "<style scoped>\n",
       "    .dataframe tbody tr th:only-of-type {\n",
       "        vertical-align: middle;\n",
       "    }\n",
       "\n",
       "    .dataframe tbody tr th {\n",
       "        vertical-align: top;\n",
       "    }\n",
       "\n",
       "    .dataframe thead th {\n",
       "        text-align: right;\n",
       "    }\n",
       "</style>\n",
       "<table border=\"1\" class=\"dataframe\">\n",
       "  <thead>\n",
       "    <tr style=\"text-align: right;\">\n",
       "      <th></th>\n",
       "      <th>label</th>\n",
       "      <th>data</th>\n",
       "      <th>cleaned_data</th>\n",
       "    </tr>\n",
       "  </thead>\n",
       "  <tbody>\n",
       "    <tr>\n",
       "      <td>0</td>\n",
       "      <td>ham</td>\n",
       "      <td>I've been searching for the right words to tha...</td>\n",
       "      <td>[ive, search, right, word, thank, breather, pr...</td>\n",
       "    </tr>\n",
       "    <tr>\n",
       "      <td>1</td>\n",
       "      <td>spam</td>\n",
       "      <td>Free entry in 2 a wkly comp to win FA Cup fina...</td>\n",
       "      <td>[free, entri, 2, wkli, comp, win, fa, cup, fin...</td>\n",
       "    </tr>\n",
       "    <tr>\n",
       "      <td>2</td>\n",
       "      <td>ham</td>\n",
       "      <td>Nah I don't think he goes to usf, he lives aro...</td>\n",
       "      <td>[nah, dont, think, goe, usf, live, around, tho...</td>\n",
       "    </tr>\n",
       "    <tr>\n",
       "      <td>3</td>\n",
       "      <td>ham</td>\n",
       "      <td>Even my brother is not like to speak with me. ...</td>\n",
       "      <td>[even, brother, like, speak, treat, like, aid,...</td>\n",
       "    </tr>\n",
       "    <tr>\n",
       "      <td>4</td>\n",
       "      <td>ham</td>\n",
       "      <td>I HAVE A DATE ON SUNDAY WITH WILL!!</td>\n",
       "      <td>[date, sunday]</td>\n",
       "    </tr>\n",
       "  </tbody>\n",
       "</table>\n",
       "</div>"
      ],
      "text/plain": [
       "  label                                               data  \\\n",
       "0   ham  I've been searching for the right words to tha...   \n",
       "1  spam  Free entry in 2 a wkly comp to win FA Cup fina...   \n",
       "2   ham  Nah I don't think he goes to usf, he lives aro...   \n",
       "3   ham  Even my brother is not like to speak with me. ...   \n",
       "4   ham                I HAVE A DATE ON SUNDAY WITH WILL!!   \n",
       "\n",
       "                                        cleaned_data  \n",
       "0  [ive, search, right, word, thank, breather, pr...  \n",
       "1  [free, entri, 2, wkli, comp, win, fa, cup, fin...  \n",
       "2  [nah, dont, think, goe, usf, live, around, tho...  \n",
       "3  [even, brother, like, speak, treat, like, aid,...  \n",
       "4                                     [date, sunday]  "
      ]
     },
     "execution_count": 18,
     "metadata": {},
     "output_type": "execute_result"
    }
   ],
   "source": [
    "#string.punctuation\n",
    "stopword = stopwords.words('english')\n",
    "ps = nltk.PorterStemmer()\n",
    "wn = nltk.WordNetLemmatizer()\n",
    "\n",
    "def clean_data(text):\n",
    "    text_nopunc = \"\".join([char for char in text  if char not in string.punctuation])\n",
    "    tokens = re.split('\\W+',text_nopunc) #'\\W+' indicates non word character\n",
    "    text_stemmed = [ps.stem(word) for word in tokens if word not in stopword]\n",
    "    #text_lemma = [wn.lemmatize(word) for word in text] #lemmatization\n",
    "    return text_stemmed\n",
    "\n",
    "dtext['cleaned_data'] = dtext['data'].apply(lambda x: clean_data(x.lower()))\n",
    "dtext.head()"
   ]
  },
  {
   "cell_type": "markdown",
   "metadata": {},
   "source": [
    "# Apply Count Vectorizer"
   ]
  },
  {
   "cell_type": "code",
   "execution_count": 54,
   "metadata": {},
   "outputs": [
    {
     "name": "stdout",
     "output_type": "stream",
     "text": [
      "(5568, 8337)\n"
     ]
    }
   ],
   "source": [
    "from sklearn.feature_extraction.text import CountVectorizer\n",
    "count_vect = CountVectorizer(analyzer = clean_data)\n",
    "x_count = count_vect.fit_transform(dtext['data'])\n",
    "print(x_count.shape)\n",
    "#print(count_vect.get_feature_names())"
   ]
  },
  {
   "cell_type": "markdown",
   "metadata": {},
   "source": [
    "# Apply Count Vectorizer( W/ N grams)"
   ]
  },
  {
   "cell_type": "code",
   "execution_count": 20,
   "metadata": {},
   "outputs": [
    {
     "data": {
      "text/html": [
       "<div>\n",
       "<style scoped>\n",
       "    .dataframe tbody tr th:only-of-type {\n",
       "        vertical-align: middle;\n",
       "    }\n",
       "\n",
       "    .dataframe tbody tr th {\n",
       "        vertical-align: top;\n",
       "    }\n",
       "\n",
       "    .dataframe thead th {\n",
       "        text-align: right;\n",
       "    }\n",
       "</style>\n",
       "<table border=\"1\" class=\"dataframe\">\n",
       "  <thead>\n",
       "    <tr style=\"text-align: right;\">\n",
       "      <th></th>\n",
       "      <th>label</th>\n",
       "      <th>data</th>\n",
       "      <th>cleaned_data</th>\n",
       "      <th>cleaned_data_gram</th>\n",
       "    </tr>\n",
       "  </thead>\n",
       "  <tbody>\n",
       "    <tr>\n",
       "      <td>0</td>\n",
       "      <td>ham</td>\n",
       "      <td>I've been searching for the right words to tha...</td>\n",
       "      <td>[ive, search, right, word, thank, breather, pr...</td>\n",
       "      <td>ive search right word thank breather promis wo...</td>\n",
       "    </tr>\n",
       "    <tr>\n",
       "      <td>1</td>\n",
       "      <td>spam</td>\n",
       "      <td>Free entry in 2 a wkly comp to win FA Cup fina...</td>\n",
       "      <td>[free, entri, 2, wkli, comp, win, fa, cup, fin...</td>\n",
       "      <td>free entri 2 wkli comp win fa cup final tkt 21...</td>\n",
       "    </tr>\n",
       "    <tr>\n",
       "      <td>2</td>\n",
       "      <td>ham</td>\n",
       "      <td>Nah I don't think he goes to usf, he lives aro...</td>\n",
       "      <td>[nah, dont, think, goe, usf, live, around, tho...</td>\n",
       "      <td>nah dont think goe usf live around though</td>\n",
       "    </tr>\n",
       "    <tr>\n",
       "      <td>3</td>\n",
       "      <td>ham</td>\n",
       "      <td>Even my brother is not like to speak with me. ...</td>\n",
       "      <td>[even, brother, like, speak, treat, like, aid,...</td>\n",
       "      <td>even brother like speak treat like aid patent</td>\n",
       "    </tr>\n",
       "    <tr>\n",
       "      <td>4</td>\n",
       "      <td>ham</td>\n",
       "      <td>I HAVE A DATE ON SUNDAY WITH WILL!!</td>\n",
       "      <td>[date, sunday]</td>\n",
       "      <td>date sunday</td>\n",
       "    </tr>\n",
       "  </tbody>\n",
       "</table>\n",
       "</div>"
      ],
      "text/plain": [
       "  label                                               data  \\\n",
       "0   ham  I've been searching for the right words to tha...   \n",
       "1  spam  Free entry in 2 a wkly comp to win FA Cup fina...   \n",
       "2   ham  Nah I don't think he goes to usf, he lives aro...   \n",
       "3   ham  Even my brother is not like to speak with me. ...   \n",
       "4   ham                I HAVE A DATE ON SUNDAY WITH WILL!!   \n",
       "\n",
       "                                        cleaned_data  \\\n",
       "0  [ive, search, right, word, thank, breather, pr...   \n",
       "1  [free, entri, 2, wkli, comp, win, fa, cup, fin...   \n",
       "2  [nah, dont, think, goe, usf, live, around, tho...   \n",
       "3  [even, brother, like, speak, treat, like, aid,...   \n",
       "4                                     [date, sunday]   \n",
       "\n",
       "                                   cleaned_data_gram  \n",
       "0  ive search right word thank breather promis wo...  \n",
       "1  free entri 2 wkli comp win fa cup final tkt 21...  \n",
       "2          nah dont think goe usf live around though  \n",
       "3      even brother like speak treat like aid patent  \n",
       "4                                        date sunday  "
      ]
     },
     "execution_count": 20,
     "metadata": {},
     "output_type": "execute_result"
    }
   ],
   "source": [
    "#string.punctuation\n",
    "stopword = stopwords.words('english')\n",
    "ps = nltk.PorterStemmer()\n",
    "wn = nltk.WordNetLemmatizer()\n",
    "\n",
    "def clean_data_ngram(text):\n",
    "    text_nopunc = \"\".join([char for char in text  if char not in string.punctuation])\n",
    "    tokens = re.split('\\W+',text_nopunc) #'\\W+' indicates non word character\n",
    "    text_stemmed = \" \".join([ps.stem(word) for word in tokens if word not in stopword])\n",
    "    #text_lemma = [wn.lemmatize(word) for word in text] #lemmatization\n",
    "    return text_stemmed\n",
    "\n",
    "dtext['cleaned_data_gram'] = dtext['data'].apply(lambda x: clean_data_ngram(x.lower()))\n",
    "dtext.head()"
   ]
  },
  {
   "cell_type": "code",
   "execution_count": 55,
   "metadata": {},
   "outputs": [
    {
     "name": "stdout",
     "output_type": "stream",
     "text": [
      "(5568, 31275)\n"
     ]
    }
   ],
   "source": [
    "from sklearn.feature_extraction.text import CountVectorizer\n",
    "count_vect_ngram = CountVectorizer(ngram_range=(2,2))\n",
    "x_count_ngram = count_vect_ngram.fit_transform(dtext['cleaned_data_gram'])\n",
    "print(x_count_ngram.shape)\n",
    "\n",
    "#print(count_vect_ngram.get_feature_names())"
   ]
  },
  {
   "cell_type": "code",
   "execution_count": 22,
   "metadata": {},
   "outputs": [
    {
     "name": "stdout",
     "output_type": "stream",
     "text": [
      "(1, 15)\n",
      "['bless time', 'breather promis', 'fulfil promis', 'grant fulfil', 'help grant', 'ive search', 'promis wonder', 'promis wont', 'right word', 'search right', 'take help', 'thank breather', 'wonder bless', 'wont take', 'word thank']\n"
     ]
    }
   ],
   "source": [
    "dtext_sample = dtext[0:1]\n",
    "count_vect_sample = CountVectorizer(ngram_range=(2,2))\n",
    "x_count_sample = count_vect_sample.fit_transform(dtext_sample['cleaned_data_gram'])\n",
    "print(x_count_sample.shape)\n",
    "\n",
    "print(count_vect_sample.get_feature_names())"
   ]
  },
  {
   "cell_type": "code",
   "execution_count": 23,
   "metadata": {},
   "outputs": [
    {
     "name": "stdout",
     "output_type": "stream",
     "text": [
      "0    ive search right word thank breather promis wont take help grant fulfil promis wonder bless time\n",
      "Name: cleaned_data_gram, dtype: object\n"
     ]
    }
   ],
   "source": [
    "pd.set_option('display.max_colwidth', -1)\n",
    "print(str(dtext_sample['cleaned_data_gram']))"
   ]
  },
  {
   "cell_type": "markdown",
   "metadata": {},
   "source": [
    "# Apply TFidfVectorizer"
   ]
  },
  {
   "cell_type": "code",
   "execution_count": 56,
   "metadata": {},
   "outputs": [
    {
     "name": "stdout",
     "output_type": "stream",
     "text": [
      "(5568, 8337)\n"
     ]
    }
   ],
   "source": [
    "from sklearn.feature_extraction.text import TfidfVectorizer\n",
    "count_vect_tfidf = TfidfVectorizer(analyzer = clean_data)\n",
    "x_tfidf = count_vect_tfidf.fit_transform(dtext['data'])\n",
    "print(x_tfidf.shape)\n",
    "#print(count_vect_tfidf.get_feature_names())\n"
   ]
  },
  {
   "cell_type": "markdown",
   "metadata": {},
   "source": [
    "# Feature Engineering - Feature Creation"
   ]
  },
  {
   "cell_type": "markdown",
   "metadata": {},
   "source": [
    "## 1. Message length"
   ]
  },
  {
   "cell_type": "code",
   "execution_count": 25,
   "metadata": {},
   "outputs": [
    {
     "data": {
      "text/html": [
       "<div>\n",
       "<style scoped>\n",
       "    .dataframe tbody tr th:only-of-type {\n",
       "        vertical-align: middle;\n",
       "    }\n",
       "\n",
       "    .dataframe tbody tr th {\n",
       "        vertical-align: top;\n",
       "    }\n",
       "\n",
       "    .dataframe thead th {\n",
       "        text-align: right;\n",
       "    }\n",
       "</style>\n",
       "<table border=\"1\" class=\"dataframe\">\n",
       "  <thead>\n",
       "    <tr style=\"text-align: right;\">\n",
       "      <th></th>\n",
       "      <th>label</th>\n",
       "      <th>data</th>\n",
       "      <th>cleaned_data</th>\n",
       "      <th>cleaned_data_gram</th>\n",
       "      <th>data_len</th>\n",
       "    </tr>\n",
       "  </thead>\n",
       "  <tbody>\n",
       "    <tr>\n",
       "      <td>0</td>\n",
       "      <td>ham</td>\n",
       "      <td>I've been searching for the right words to thank you for this breather. I promise i wont take your help for granted and will fulfil my promise. You have been wonderful and a blessing at all times.</td>\n",
       "      <td>[ive, search, right, word, thank, breather, promis, wont, take, help, grant, fulfil, promis, wonder, bless, time]</td>\n",
       "      <td>ive search right word thank breather promis wont take help grant fulfil promis wonder bless time</td>\n",
       "      <td>160</td>\n",
       "    </tr>\n",
       "    <tr>\n",
       "      <td>1</td>\n",
       "      <td>spam</td>\n",
       "      <td>Free entry in 2 a wkly comp to win FA Cup final tkts 21st May 2005. Text FA to 87121 to receive entry question(std txt rate)T&amp;C's apply 08452810075over18's</td>\n",
       "      <td>[free, entri, 2, wkli, comp, win, fa, cup, final, tkt, 21st, may, 2005, text, fa, 87121, receiv, entri, questionstd, txt, ratetc, appli, 08452810075over18]</td>\n",
       "      <td>free entri 2 wkli comp win fa cup final tkt 21st may 2005 text fa 87121 receiv entri questionstd txt ratetc appli 08452810075over18</td>\n",
       "      <td>128</td>\n",
       "    </tr>\n",
       "    <tr>\n",
       "      <td>2</td>\n",
       "      <td>ham</td>\n",
       "      <td>Nah I don't think he goes to usf, he lives around here though</td>\n",
       "      <td>[nah, dont, think, goe, usf, live, around, though]</td>\n",
       "      <td>nah dont think goe usf live around though</td>\n",
       "      <td>49</td>\n",
       "    </tr>\n",
       "    <tr>\n",
       "      <td>3</td>\n",
       "      <td>ham</td>\n",
       "      <td>Even my brother is not like to speak with me. They treat me like aids patent.</td>\n",
       "      <td>[even, brother, like, speak, treat, like, aid, patent]</td>\n",
       "      <td>even brother like speak treat like aid patent</td>\n",
       "      <td>62</td>\n",
       "    </tr>\n",
       "    <tr>\n",
       "      <td>4</td>\n",
       "      <td>ham</td>\n",
       "      <td>I HAVE A DATE ON SUNDAY WITH WILL!!</td>\n",
       "      <td>[date, sunday]</td>\n",
       "      <td>date sunday</td>\n",
       "      <td>28</td>\n",
       "    </tr>\n",
       "  </tbody>\n",
       "</table>\n",
       "</div>"
      ],
      "text/plain": [
       "  label  \\\n",
       "0  ham    \n",
       "1  spam   \n",
       "2  ham    \n",
       "3  ham    \n",
       "4  ham    \n",
       "\n",
       "                                                                                                                                                                                                   data  \\\n",
       "0  I've been searching for the right words to thank you for this breather. I promise i wont take your help for granted and will fulfil my promise. You have been wonderful and a blessing at all times.   \n",
       "1  Free entry in 2 a wkly comp to win FA Cup final tkts 21st May 2005. Text FA to 87121 to receive entry question(std txt rate)T&C's apply 08452810075over18's                                            \n",
       "2  Nah I don't think he goes to usf, he lives around here though                                                                                                                                          \n",
       "3  Even my brother is not like to speak with me. They treat me like aids patent.                                                                                                                          \n",
       "4  I HAVE A DATE ON SUNDAY WITH WILL!!                                                                                                                                                                    \n",
       "\n",
       "                                                                                                                                                  cleaned_data  \\\n",
       "0  [ive, search, right, word, thank, breather, promis, wont, take, help, grant, fulfil, promis, wonder, bless, time]                                             \n",
       "1  [free, entri, 2, wkli, comp, win, fa, cup, final, tkt, 21st, may, 2005, text, fa, 87121, receiv, entri, questionstd, txt, ratetc, appli, 08452810075over18]   \n",
       "2  [nah, dont, think, goe, usf, live, around, though]                                                                                                            \n",
       "3  [even, brother, like, speak, treat, like, aid, patent]                                                                                                        \n",
       "4  [date, sunday]                                                                                                                                                \n",
       "\n",
       "                                                                                                                     cleaned_data_gram  \\\n",
       "0  ive search right word thank breather promis wont take help grant fulfil promis wonder bless time                                      \n",
       "1  free entri 2 wkli comp win fa cup final tkt 21st may 2005 text fa 87121 receiv entri questionstd txt ratetc appli 08452810075over18   \n",
       "2  nah dont think goe usf live around though                                                                                             \n",
       "3  even brother like speak treat like aid patent                                                                                         \n",
       "4  date sunday                                                                                                                           \n",
       "\n",
       "   data_len  \n",
       "0  160       \n",
       "1  128       \n",
       "2  49        \n",
       "3  62        \n",
       "4  28        "
      ]
     },
     "execution_count": 25,
     "metadata": {},
     "output_type": "execute_result"
    }
   ],
   "source": [
    "raw_dtext['data_len'] = raw_dtext['data'].apply(lambda x: len(x) - x.count(\" \")) #length of each SMS\n",
    "raw_dtext.head()"
   ]
  },
  {
   "cell_type": "markdown",
   "metadata": {},
   "source": [
    "## 2. Percentage of punctuation"
   ]
  },
  {
   "cell_type": "code",
   "execution_count": 26,
   "metadata": {},
   "outputs": [
    {
     "data": {
      "text/html": [
       "<div>\n",
       "<style scoped>\n",
       "    .dataframe tbody tr th:only-of-type {\n",
       "        vertical-align: middle;\n",
       "    }\n",
       "\n",
       "    .dataframe tbody tr th {\n",
       "        vertical-align: top;\n",
       "    }\n",
       "\n",
       "    .dataframe thead th {\n",
       "        text-align: right;\n",
       "    }\n",
       "</style>\n",
       "<table border=\"1\" class=\"dataframe\">\n",
       "  <thead>\n",
       "    <tr style=\"text-align: right;\">\n",
       "      <th></th>\n",
       "      <th>label</th>\n",
       "      <th>data</th>\n",
       "      <th>cleaned_data</th>\n",
       "      <th>cleaned_data_gram</th>\n",
       "      <th>data_len</th>\n",
       "      <th>percent_punct</th>\n",
       "    </tr>\n",
       "  </thead>\n",
       "  <tbody>\n",
       "    <tr>\n",
       "      <td>0</td>\n",
       "      <td>ham</td>\n",
       "      <td>I've been searching for the right words to thank you for this breather. I promise i wont take your help for granted and will fulfil my promise. You have been wonderful and a blessing at all times.</td>\n",
       "      <td>[ive, search, right, word, thank, breather, promis, wont, take, help, grant, fulfil, promis, wonder, bless, time]</td>\n",
       "      <td>ive search right word thank breather promis wont take help grant fulfil promis wonder bless time</td>\n",
       "      <td>160</td>\n",
       "      <td>2.5</td>\n",
       "    </tr>\n",
       "    <tr>\n",
       "      <td>1</td>\n",
       "      <td>spam</td>\n",
       "      <td>Free entry in 2 a wkly comp to win FA Cup final tkts 21st May 2005. Text FA to 87121 to receive entry question(std txt rate)T&amp;C's apply 08452810075over18's</td>\n",
       "      <td>[free, entri, 2, wkli, comp, win, fa, cup, final, tkt, 21st, may, 2005, text, fa, 87121, receiv, entri, questionstd, txt, ratetc, appli, 08452810075over18]</td>\n",
       "      <td>free entri 2 wkli comp win fa cup final tkt 21st may 2005 text fa 87121 receiv entri questionstd txt ratetc appli 08452810075over18</td>\n",
       "      <td>128</td>\n",
       "      <td>4.7</td>\n",
       "    </tr>\n",
       "    <tr>\n",
       "      <td>2</td>\n",
       "      <td>ham</td>\n",
       "      <td>Nah I don't think he goes to usf, he lives around here though</td>\n",
       "      <td>[nah, dont, think, goe, usf, live, around, though]</td>\n",
       "      <td>nah dont think goe usf live around though</td>\n",
       "      <td>49</td>\n",
       "      <td>4.1</td>\n",
       "    </tr>\n",
       "    <tr>\n",
       "      <td>3</td>\n",
       "      <td>ham</td>\n",
       "      <td>Even my brother is not like to speak with me. They treat me like aids patent.</td>\n",
       "      <td>[even, brother, like, speak, treat, like, aid, patent]</td>\n",
       "      <td>even brother like speak treat like aid patent</td>\n",
       "      <td>62</td>\n",
       "      <td>3.2</td>\n",
       "    </tr>\n",
       "    <tr>\n",
       "      <td>4</td>\n",
       "      <td>ham</td>\n",
       "      <td>I HAVE A DATE ON SUNDAY WITH WILL!!</td>\n",
       "      <td>[date, sunday]</td>\n",
       "      <td>date sunday</td>\n",
       "      <td>28</td>\n",
       "      <td>7.1</td>\n",
       "    </tr>\n",
       "  </tbody>\n",
       "</table>\n",
       "</div>"
      ],
      "text/plain": [
       "  label  \\\n",
       "0  ham    \n",
       "1  spam   \n",
       "2  ham    \n",
       "3  ham    \n",
       "4  ham    \n",
       "\n",
       "                                                                                                                                                                                                   data  \\\n",
       "0  I've been searching for the right words to thank you for this breather. I promise i wont take your help for granted and will fulfil my promise. You have been wonderful and a blessing at all times.   \n",
       "1  Free entry in 2 a wkly comp to win FA Cup final tkts 21st May 2005. Text FA to 87121 to receive entry question(std txt rate)T&C's apply 08452810075over18's                                            \n",
       "2  Nah I don't think he goes to usf, he lives around here though                                                                                                                                          \n",
       "3  Even my brother is not like to speak with me. They treat me like aids patent.                                                                                                                          \n",
       "4  I HAVE A DATE ON SUNDAY WITH WILL!!                                                                                                                                                                    \n",
       "\n",
       "                                                                                                                                                  cleaned_data  \\\n",
       "0  [ive, search, right, word, thank, breather, promis, wont, take, help, grant, fulfil, promis, wonder, bless, time]                                             \n",
       "1  [free, entri, 2, wkli, comp, win, fa, cup, final, tkt, 21st, may, 2005, text, fa, 87121, receiv, entri, questionstd, txt, ratetc, appli, 08452810075over18]   \n",
       "2  [nah, dont, think, goe, usf, live, around, though]                                                                                                            \n",
       "3  [even, brother, like, speak, treat, like, aid, patent]                                                                                                        \n",
       "4  [date, sunday]                                                                                                                                                \n",
       "\n",
       "                                                                                                                     cleaned_data_gram  \\\n",
       "0  ive search right word thank breather promis wont take help grant fulfil promis wonder bless time                                      \n",
       "1  free entri 2 wkli comp win fa cup final tkt 21st may 2005 text fa 87121 receiv entri questionstd txt ratetc appli 08452810075over18   \n",
       "2  nah dont think goe usf live around though                                                                                             \n",
       "3  even brother like speak treat like aid patent                                                                                         \n",
       "4  date sunday                                                                                                                           \n",
       "\n",
       "   data_len  percent_punct  \n",
       "0  160       2.5            \n",
       "1  128       4.7            \n",
       "2  49        4.1            \n",
       "3  62        3.2            \n",
       "4  28        7.1            "
      ]
     },
     "execution_count": 26,
     "metadata": {},
     "output_type": "execute_result"
    }
   ],
   "source": [
    "def per_punct(text):\n",
    "    count = sum([1 for char in text if char in string.punctuation])\n",
    "    return round(count/(len(text) - text.count(\" \")),3)*100\n",
    "\n",
    "raw_dtext['percent_punct'] = raw_dtext['data'].apply(lambda x: per_punct(x))\n",
    "raw_dtext.head()"
   ]
  },
  {
   "cell_type": "code",
   "execution_count": 27,
   "metadata": {},
   "outputs": [
    {
     "data": {
      "text/plain": [
       "740"
      ]
     },
     "execution_count": 27,
     "metadata": {},
     "output_type": "execute_result"
    }
   ],
   "source": [
    "dtext['data_len'].max()"
   ]
  },
  {
   "cell_type": "markdown",
   "metadata": {},
   "source": [
    "# Feature Evaluation"
   ]
  },
  {
   "cell_type": "code",
   "execution_count": 28,
   "metadata": {},
   "outputs": [],
   "source": [
    "from matplotlib import pyplot\n",
    "import numpy as np\n",
    "%matplotlib inline"
   ]
  },
  {
   "cell_type": "code",
   "execution_count": 29,
   "metadata": {},
   "outputs": [
    {
     "data": {
      "image/png": "[encoded data removed]",
      "text/plain": [
       "<Figure size 432x288 with 1 Axes>"
      ]
     },
     "metadata": {
      "needs_background": "light"
     },
     "output_type": "display_data"
    }
   ],
   "source": [
    "bins = np.linspace(0,200,40)\n",
    "pyplot.hist(dtext[dtext['label']=='spam']['data_len'],bins,alpha = 0.5,density=True, label = 'spam')\n",
    "pyplot.hist(dtext[dtext['label']=='ham']['data_len'],bins,alpha = 0.5,density=True, label = 'ham')\n",
    "pyplot.title('Length of SMS')\n",
    "pyplot.legend(loc='upper right')\n",
    "pyplot.show()"
   ]
  },
  {
   "cell_type": "code",
   "execution_count": 30,
   "metadata": {},
   "outputs": [
    {
     "data": {
      "image/png": "[encoded data removed]",
      "text/plain": [
       "<Figure size 432x288 with 1 Axes>"
      ]
     },
     "metadata": {
      "needs_background": "light"
     },
     "output_type": "display_data"
    }
   ],
   "source": [
    "bins = np.linspace(0,50,40)\n",
    "pyplot.hist(dtext[dtext['label']=='spam']['percent_punct'],bins,alpha = 0.5,density=True, label = 'spam')\n",
    "pyplot.hist(dtext[dtext['label']=='ham']['percent_punct'],bins,alpha = 0.5,density=True, label = 'ham')\n",
    "pyplot.title('Percentage of punctuations in the SMS')\n",
    "pyplot.legend(loc='upper right')\n",
    "pyplot.show()"
   ]
  },
  {
   "cell_type": "markdown",
   "metadata": {},
   "source": [
    "## Plot two new features"
   ]
  },
  {
   "cell_type": "code",
   "execution_count": 31,
   "metadata": {},
   "outputs": [
    {
     "data": {
      "image/png": "[encoded data removed]",
      "text/plain": [
       "<Figure size 432x288 with 1 Axes>"
      ]
     },
     "metadata": {
      "needs_background": "light"
     },
     "output_type": "display_data"
    }
   ],
   "source": [
    "bins = np.linspace(0,200,40)\n",
    "pyplot.hist(dtext['data_len'],bins,alpha = 0.8,density=True,label='SMS Length')\n",
    "pyplot.title('Length of SMS - Full distribution')\n",
    "pyplot.legend(loc='upper right')\n",
    "pyplot.show()"
   ]
  },
  {
   "cell_type": "code",
   "execution_count": 32,
   "metadata": {},
   "outputs": [
    {
     "data": {
      "image/png": "[encoded data removed]",
      "text/plain": [
       "<Figure size 432x288 with 1 Axes>"
      ]
     },
     "metadata": {
      "needs_background": "light"
     },
     "output_type": "display_data"
    }
   ],
   "source": [
    "bins = np.linspace(0,50,40)\n",
    "pyplot.hist(dtext['percent_punct'],bins,alpha = 0.8,density=True,label='Percent Punctuation')\n",
    "pyplot.title('Percentage of punctuations in the SMS - Full distribution')\n",
    "pyplot.legend(loc='upper right')\n",
    "pyplot.show()"
   ]
  },
  {
   "cell_type": "markdown",
   "metadata": {},
   "source": [
    "# Feature Transformation"
   ]
  },
  {
   "cell_type": "markdown",
   "metadata": {},
   "source": [
    "## Applying transformation - Box Cox Transformation"
   ]
  },
  {
   "cell_type": "code",
   "execution_count": 33,
   "metadata": {},
   "outputs": [
    {
     "data": {
      "image/png": "[encoded data removed]",
      "text/plain": [
       "<Figure size 432x288 with 1 Axes>"
      ]
     },
     "metadata": {
      "needs_background": "light"
     },
     "output_type": "display_data"
    },
    {
     "data": {
      "image/png": "[encoded data removed]",
      "text/plain": [
       "<Figure size 432x288 with 1 Axes>"
      ]
     },
     "metadata": {
      "needs_background": "light"
     },
     "output_type": "display_data"
    },
    {
     "data": {
      "image/png": "[encoded data removed]",
      "text/plain": [
       "<Figure size 432x288 with 1 Axes>"
      ]
     },
     "metadata": {
      "needs_background": "light"
     },
     "output_type": "display_data"
    },
    {
     "data": {
      "image/png": "[encoded data removed]",
      "text/plain": [
       "<Figure size 432x288 with 1 Axes>"
      ]
     },
     "metadata": {
      "needs_background": "light"
     },
     "output_type": "display_data"
    },
    {
     "data": {
      "image/png": "[encoded data removed]",
      "text/plain": [
       "<Figure size 432x288 with 1 Axes>"
      ]
     },
     "metadata": {
      "needs_background": "light"
     },
     "output_type": "display_data"
    }
   ],
   "source": [
    "for i in [1,2,3,4,5]:\n",
    "    pyplot.hist((dtext['percent_punct'])**(1/i),bins=40)\n",
    "    pyplot.title('Transformation 1/{}'.format(str(i)))\n",
    "    pyplot.show()"
   ]
  },
  {
   "cell_type": "markdown",
   "metadata": {},
   "source": [
    "# Building the Model - Random Forest"
   ]
  },
  {
   "cell_type": "code",
   "execution_count": 34,
   "metadata": {},
   "outputs": [
    {
     "name": "stdout",
     "output_type": "stream",
     "text": [
      "   data_len  percent_punct    0    1    2    3    4    5    6    7  ...  8327  \\\n",
      "0  160       2.5            0.0  0.0  0.0  0.0  0.0  0.0  0.0  0.0  ...  0.0    \n",
      "1  128       4.7            0.0  0.0  0.0  0.0  0.0  0.0  0.0  0.0  ...  0.0    \n",
      "2  49        4.1            0.0  0.0  0.0  0.0  0.0  0.0  0.0  0.0  ...  0.0    \n",
      "3  62        3.2            0.0  0.0  0.0  0.0  0.0  0.0  0.0  0.0  ...  0.0    \n",
      "4  28        7.1            0.0  0.0  0.0  0.0  0.0  0.0  0.0  0.0  ...  0.0    \n",
      "\n",
      "   8328  8329  8330  8331  8332  8333  8334  8335  8336  \n",
      "0  0.0   0.0   0.0   0.0   0.0   0.0   0.0   0.0   0.0   \n",
      "1  0.0   0.0   0.0   0.0   0.0   0.0   0.0   0.0   0.0   \n",
      "2  0.0   0.0   0.0   0.0   0.0   0.0   0.0   0.0   0.0   \n",
      "3  0.0   0.0   0.0   0.0   0.0   0.0   0.0   0.0   0.0   \n",
      "4  0.0   0.0   0.0   0.0   0.0   0.0   0.0   0.0   0.0   \n",
      "\n",
      "[5 rows x 8339 columns]\n",
      "   data_len  percent_punct  0  1  2  3  4  5  6  7  ...  8327  8328  8329  \\\n",
      "0  160       2.5            0  0  0  0  0  0  0  0  ...  0     0     0      \n",
      "1  128       4.7            0  0  0  0  0  0  0  0  ...  0     0     0      \n",
      "2  49        4.1            0  0  0  0  0  0  0  0  ...  0     0     0      \n",
      "3  62        3.2            0  0  0  0  0  0  0  0  ...  0     0     0      \n",
      "4  28        7.1            0  0  0  0  0  0  0  0  ...  0     0     0      \n",
      "\n",
      "   8330  8331  8332  8333  8334  8335  8336  \n",
      "0  0     0     0     0     0     0     0     \n",
      "1  0     0     0     0     0     0     0     \n",
      "2  0     0     0     0     0     0     0     \n",
      "3  0     0     0     0     0     0     0     \n",
      "4  0     0     0     0     0     0     0     \n",
      "\n",
      "[5 rows x 8339 columns]\n"
     ]
    }
   ],
   "source": [
    "X_features = pd.concat([dtext['data_len'],dtext['percent_punct'],pd.DataFrame(x_tfidf.toarray())],axis=1)\n",
    "print(X_features.head())\n",
    "X_count_features = pd.concat([dtext['data_len'],dtext['percent_punct'],pd.DataFrame(x_count.toarray())],axis=1)\n",
    "print(X_count_features.head())"
   ]
  },
  {
   "cell_type": "markdown",
   "metadata": {},
   "source": [
    "## Explore RandomForestClassifier Attributes and Hyperparameters"
   ]
  },
  {
   "cell_type": "code",
   "execution_count": 35,
   "metadata": {},
   "outputs": [
    {
     "name": "stdout",
     "output_type": "stream",
     "text": [
      "['__abstractmethods__', '__class__', '__delattr__', '__dict__', '__dir__', '__doc__', '__eq__', '__format__', '__ge__', '__getattribute__', '__getitem__', '__getstate__', '__gt__', '__hash__', '__init__', '__init_subclass__', '__iter__', '__le__', '__len__', '__lt__', '__module__', '__ne__', '__new__', '__reduce__', '__reduce_ex__', '__repr__', '__setattr__', '__setstate__', '__sizeof__', '__str__', '__subclasshook__', '__weakref__', '_abc_impl', '_estimator_type', '_get_param_names', '_get_tags', '_make_estimator', '_more_tags', '_required_parameters', '_set_oob_score', '_validate_X_predict', '_validate_estimator', '_validate_y_class_weight', 'apply', 'base_estimator', 'bootstrap', 'class_weight', 'criterion', 'decision_path', 'estimator_params', 'feature_importances_', 'fit', 'get_params', 'max_depth', 'max_features', 'max_leaf_nodes', 'min_impurity_decrease', 'min_impurity_split', 'min_samples_leaf', 'min_samples_split', 'min_weight_fraction_leaf', 'n_estimators', 'n_jobs', 'oob_score', 'predict', 'predict_log_proba', 'predict_proba', 'random_state', 'score', 'set_params', 'verbose', 'warm_start']\n",
      "RandomForestClassifier(bootstrap=True, class_weight=None, criterion='gini',\n",
      "                       max_depth=None, max_features='auto', max_leaf_nodes=None,\n",
      "                       min_impurity_decrease=0.0, min_impurity_split=None,\n",
      "                       min_samples_leaf=1, min_samples_split=2,\n",
      "                       min_weight_fraction_leaf=0.0, n_estimators='warn',\n",
      "                       n_jobs=None, oob_score=False, random_state=None,\n",
      "                       verbose=0, warm_start=False)\n"
     ]
    }
   ],
   "source": [
    "from sklearn.ensemble import RandomForestClassifier\n",
    "print(dir(RandomForestClassifier()))\n",
    "print(RandomForestClassifier())"
   ]
  },
  {
   "cell_type": "markdown",
   "metadata": {},
   "source": [
    "## Explore RandomForestClassifier through Cross Validation"
   ]
  },
  {
   "cell_type": "code",
   "execution_count": 36,
   "metadata": {},
   "outputs": [
    {
     "data": {
      "text/plain": [
       "array([0.96947935, 0.96588869, 0.96768402, 0.96136568, 0.96765499])"
      ]
     },
     "execution_count": 36,
     "metadata": {},
     "output_type": "execute_result"
    }
   ],
   "source": [
    "from sklearn.model_selection import KFold, cross_val_score\n",
    "\n",
    "rf = RandomForestClassifier(n_jobs=-1)\n",
    "k_fold = KFold(n_splits=5)\n",
    "cross_val_score(rf, X_features, dtext['label'],cv = k_fold, scoring = 'accuracy',n_jobs = -1)"
   ]
  },
  {
   "cell_type": "markdown",
   "metadata": {},
   "source": [
    "## Explore RandomForestClassifier through Hold out set"
   ]
  },
  {
   "cell_type": "code",
   "execution_count": 37,
   "metadata": {},
   "outputs": [],
   "source": [
    "from sklearn.metrics import precision_recall_fscore_support as score\n",
    "from sklearn.model_selection import train_test_split\n",
    "\n",
    "x_train,x_test,y_train,y_test = train_test_split(X_features,dtext['label'],test_size = 0.2)"
   ]
  },
  {
   "cell_type": "code",
   "execution_count": 38,
   "metadata": {},
   "outputs": [],
   "source": [
    "from sklearn.ensemble import RandomForestClassifier\n",
    "\n",
    "rf = RandomForestClassifier(n_estimators = 50, max_depth = 20, n_jobs = -1)\n",
    "rf_model =rf.fit(x_train, y_train)\n"
   ]
  },
  {
   "cell_type": "code",
   "execution_count": 57,
   "metadata": {},
   "outputs": [],
   "source": [
    "#sorted(zip(rf_model.feature_importances_,x_train.columns),reverse = True)"
   ]
  },
  {
   "cell_type": "code",
   "execution_count": 40,
   "metadata": {},
   "outputs": [
    {
     "name": "stdout",
     "output_type": "stream",
     "text": [
      "Precision: 1.0 / Recall: 0.512 / Accuracy: 0.928\n"
     ]
    }
   ],
   "source": [
    "y_pred = rf_model.predict(x_test)\n",
    "precision,recall,fscore,support = score(y_test,y_pred, pos_label = 'spam', average='binary')\n",
    "print('Precision: {} / Recall: {} / Accuracy: {}'.format(round(precision,3),\n",
    "                                                         round(recall,3),\n",
    "                                                         round(((y_test==y_pred).sum()/len(y_pred)),3)))"
   ]
  },
  {
   "cell_type": "markdown",
   "metadata": {},
   "source": [
    "## Random Forest with Grid Search"
   ]
  },
  {
   "cell_type": "code",
   "execution_count": 41,
   "metadata": {},
   "outputs": [],
   "source": [
    "from sklearn.metrics import precision_recall_fscore_support as score\n",
    "from sklearn.model_selection import train_test_split\n",
    "from sklearn.ensemble import RandomForestClassifier\n",
    "\n",
    "x_train,x_test,y_train,y_test = train_test_split(X_features,dtext['label'],test_size = 0.2)"
   ]
  },
  {
   "cell_type": "code",
   "execution_count": 42,
   "metadata": {},
   "outputs": [],
   "source": [
    "def run_model(n_est,depth):\n",
    "    rf = RandomForestClassifier(n_estimators = n_est, max_depth = depth, n_jobs = -1)\n",
    "    rf_model =rf.fit(x_train, y_train)\n",
    "    y_pred = rf_model.predict(x_test)\n",
    "    precision,recall,fscore,support = score(y_test,y_pred, pos_label = 'spam', average='binary')\n",
    "    print('Est: {} / Depth: {} ------ Precision: {} / Recall: {} / Accuracy: {}'.format(n_est,depth,round(precision,3),\n",
    "                                                         round(recall,3),\n",
    "                                                         round(((y_test==y_pred).sum()/len(y_pred)),3)))\n",
    "    "
   ]
  },
  {
   "cell_type": "code",
   "execution_count": 43,
   "metadata": {},
   "outputs": [
    {
     "name": "stdout",
     "output_type": "stream",
     "text": [
      "Est: 10 / Depth: 10 ------ Precision: 1.0 / Recall: 0.294 / Accuracy: 0.909\n",
      "Est: 10 / Depth: 20 ------ Precision: 1.0 / Recall: 0.469 / Accuracy: 0.932\n",
      "Est: 10 / Depth: 30 ------ Precision: 1.0 / Recall: 0.734 / Accuracy: 0.966\n",
      "Est: 10 / Depth: None ------ Precision: 1.0 / Recall: 0.804 / Accuracy: 0.975\n",
      "Est: 30 / Depth: 10 ------ Precision: 1.0 / Recall: 0.252 / Accuracy: 0.904\n",
      "Est: 30 / Depth: 20 ------ Precision: 1.0 / Recall: 0.594 / Accuracy: 0.948\n",
      "Est: 30 / Depth: 30 ------ Precision: 1.0 / Recall: 0.657 / Accuracy: 0.956\n",
      "Est: 30 / Depth: None ------ Precision: 1.0 / Recall: 0.804 / Accuracy: 0.975\n",
      "Est: 50 / Depth: 10 ------ Precision: 1.0 / Recall: 0.224 / Accuracy: 0.9\n",
      "Est: 50 / Depth: 20 ------ Precision: 1.0 / Recall: 0.58 / Accuracy: 0.946\n",
      "Est: 50 / Depth: 30 ------ Precision: 1.0 / Recall: 0.706 / Accuracy: 0.962\n",
      "Est: 50 / Depth: None ------ Precision: 1.0 / Recall: 0.797 / Accuracy: 0.974\n",
      "Est: 100 / Depth: 10 ------ Precision: 1.0 / Recall: 0.238 / Accuracy: 0.902\n",
      "Est: 100 / Depth: 20 ------ Precision: 1.0 / Recall: 0.552 / Accuracy: 0.943\n",
      "Est: 100 / Depth: 30 ------ Precision: 1.0 / Recall: 0.713 / Accuracy: 0.963\n",
      "Est: 100 / Depth: None ------ Precision: 1.0 / Recall: 0.825 / Accuracy: 0.978\n"
     ]
    }
   ],
   "source": [
    "for n_est in [10,30,50,100]:\n",
    "    for depth in [10,20,30,None]:\n",
    "        run_model(n_est,depth)"
   ]
  },
  {
   "cell_type": "markdown",
   "metadata": {},
   "source": [
    "## Exploring Parameter setting using GridSearchCV - Hyper parameter tuning/Cross Validation"
   ]
  },
  {
   "cell_type": "markdown",
   "metadata": {},
   "source": [
    "### TFIDF Vectorized data"
   ]
  },
  {
   "cell_type": "code",
   "execution_count": 50,
   "metadata": {},
   "outputs": [],
   "source": [
    "from sklearn.model_selection import GridSearchCV\n",
    "from sklearn.ensemble import RandomForestClassifier"
   ]
  },
  {
   "cell_type": "code",
   "execution_count": 45,
   "metadata": {},
   "outputs": [
    {
     "data": {
      "text/html": [
       "<div>\n",
       "<style scoped>\n",
       "    .dataframe tbody tr th:only-of-type {\n",
       "        vertical-align: middle;\n",
       "    }\n",
       "\n",
       "    .dataframe tbody tr th {\n",
       "        vertical-align: top;\n",
       "    }\n",
       "\n",
       "    .dataframe thead th {\n",
       "        text-align: right;\n",
       "    }\n",
       "</style>\n",
       "<table border=\"1\" class=\"dataframe\">\n",
       "  <thead>\n",
       "    <tr style=\"text-align: right;\">\n",
       "      <th></th>\n",
       "      <th>mean_fit_time</th>\n",
       "      <th>std_fit_time</th>\n",
       "      <th>mean_score_time</th>\n",
       "      <th>std_score_time</th>\n",
       "      <th>param_max_depth</th>\n",
       "      <th>param_n_estimators</th>\n",
       "      <th>params</th>\n",
       "      <th>split0_test_score</th>\n",
       "      <th>split1_test_score</th>\n",
       "      <th>split2_test_score</th>\n",
       "      <th>split3_test_score</th>\n",
       "      <th>split4_test_score</th>\n",
       "      <th>mean_test_score</th>\n",
       "      <th>std_test_score</th>\n",
       "      <th>rank_test_score</th>\n",
       "    </tr>\n",
       "  </thead>\n",
       "  <tbody>\n",
       "    <tr>\n",
       "      <td>7</td>\n",
       "      <td>22.601494</td>\n",
       "      <td>0.658054</td>\n",
       "      <td>0.312497</td>\n",
       "      <td>0.029881</td>\n",
       "      <td>90</td>\n",
       "      <td>150</td>\n",
       "      <td>{'max_depth': 90, 'n_estimators': 150}</td>\n",
       "      <td>0.977578</td>\n",
       "      <td>0.978456</td>\n",
       "      <td>0.974843</td>\n",
       "      <td>0.969452</td>\n",
       "      <td>0.973046</td>\n",
       "      <td>0.974677</td>\n",
       "      <td>0.003246</td>\n",
       "      <td>1</td>\n",
       "    </tr>\n",
       "    <tr>\n",
       "      <td>11</td>\n",
       "      <td>37.853727</td>\n",
       "      <td>0.617892</td>\n",
       "      <td>0.253181</td>\n",
       "      <td>0.037793</td>\n",
       "      <td>None</td>\n",
       "      <td>300</td>\n",
       "      <td>{'max_depth': None, 'n_estimators': 300}</td>\n",
       "      <td>0.978475</td>\n",
       "      <td>0.974865</td>\n",
       "      <td>0.974843</td>\n",
       "      <td>0.967655</td>\n",
       "      <td>0.973046</td>\n",
       "      <td>0.973779</td>\n",
       "      <td>0.003533</td>\n",
       "      <td>2</td>\n",
       "    </tr>\n",
       "    <tr>\n",
       "      <td>10</td>\n",
       "      <td>23.286336</td>\n",
       "      <td>1.019441</td>\n",
       "      <td>0.281164</td>\n",
       "      <td>0.051684</td>\n",
       "      <td>None</td>\n",
       "      <td>150</td>\n",
       "      <td>{'max_depth': None, 'n_estimators': 150}</td>\n",
       "      <td>0.975785</td>\n",
       "      <td>0.973968</td>\n",
       "      <td>0.974843</td>\n",
       "      <td>0.967655</td>\n",
       "      <td>0.975741</td>\n",
       "      <td>0.973599</td>\n",
       "      <td>0.003045</td>\n",
       "      <td>3</td>\n",
       "    </tr>\n",
       "    <tr>\n",
       "      <td>6</td>\n",
       "      <td>2.542176</td>\n",
       "      <td>0.075005</td>\n",
       "      <td>0.143680</td>\n",
       "      <td>0.017529</td>\n",
       "      <td>90</td>\n",
       "      <td>10</td>\n",
       "      <td>{'max_depth': 90, 'n_estimators': 10}</td>\n",
       "      <td>0.977578</td>\n",
       "      <td>0.971275</td>\n",
       "      <td>0.974843</td>\n",
       "      <td>0.966757</td>\n",
       "      <td>0.976640</td>\n",
       "      <td>0.973420</td>\n",
       "      <td>0.003967</td>\n",
       "      <td>4</td>\n",
       "    </tr>\n",
       "    <tr>\n",
       "      <td>8</td>\n",
       "      <td>44.185073</td>\n",
       "      <td>0.370324</td>\n",
       "      <td>0.454716</td>\n",
       "      <td>0.047073</td>\n",
       "      <td>90</td>\n",
       "      <td>300</td>\n",
       "      <td>{'max_depth': 90, 'n_estimators': 300}</td>\n",
       "      <td>0.974888</td>\n",
       "      <td>0.977558</td>\n",
       "      <td>0.974843</td>\n",
       "      <td>0.966757</td>\n",
       "      <td>0.973046</td>\n",
       "      <td>0.973420</td>\n",
       "      <td>0.003629</td>\n",
       "      <td>4</td>\n",
       "    </tr>\n",
       "  </tbody>\n",
       "</table>\n",
       "</div>"
      ],
      "text/plain": [
       "    mean_fit_time  std_fit_time  mean_score_time  std_score_time  \\\n",
       "7   22.601494      0.658054      0.312497         0.029881         \n",
       "11  37.853727      0.617892      0.253181         0.037793         \n",
       "10  23.286336      1.019441      0.281164         0.051684         \n",
       "6   2.542176       0.075005      0.143680         0.017529         \n",
       "8   44.185073      0.370324      0.454716         0.047073         \n",
       "\n",
       "   param_max_depth param_n_estimators  \\\n",
       "7   90              150                 \n",
       "11  None            300                 \n",
       "10  None            150                 \n",
       "6   90              10                  \n",
       "8   90              300                 \n",
       "\n",
       "                                      params  split0_test_score  \\\n",
       "7   {'max_depth': 90, 'n_estimators': 150}    0.977578            \n",
       "11  {'max_depth': None, 'n_estimators': 300}  0.978475            \n",
       "10  {'max_depth': None, 'n_estimators': 150}  0.975785            \n",
       "6   {'max_depth': 90, 'n_estimators': 10}     0.977578            \n",
       "8   {'max_depth': 90, 'n_estimators': 300}    0.974888            \n",
       "\n",
       "    split1_test_score  split2_test_score  split3_test_score  \\\n",
       "7   0.978456           0.974843           0.969452            \n",
       "11  0.974865           0.974843           0.967655            \n",
       "10  0.973968           0.974843           0.967655            \n",
       "6   0.971275           0.974843           0.966757            \n",
       "8   0.977558           0.974843           0.966757            \n",
       "\n",
       "    split4_test_score  mean_test_score  std_test_score  rank_test_score  \n",
       "7   0.973046           0.974677         0.003246        1                \n",
       "11  0.973046           0.973779         0.003533        2                \n",
       "10  0.975741           0.973599         0.003045        3                \n",
       "6   0.976640           0.973420         0.003967        4                \n",
       "8   0.973046           0.973420         0.003629        4                "
      ]
     },
     "execution_count": 45,
     "metadata": {},
     "output_type": "execute_result"
    }
   ],
   "source": [
    "rf = RandomForestClassifier()\n",
    "param = {'n_estimators':[10,150,300],\n",
    "         'max_depth' : [30,60,90,None]}\n",
    "gs = GridSearchCV(rf, param, cv =5, n_jobs=-1)\n",
    "gs_fit = gs.fit(X_features,dtext['label'])\n",
    "pd.DataFrame(gs_fit.cv_results_).sort_values('mean_test_score',ascending = False)[0:5]"
   ]
  },
  {
   "cell_type": "markdown",
   "metadata": {},
   "source": [
    "### CountVectorized Data"
   ]
  },
  {
   "cell_type": "code",
   "execution_count": 46,
   "metadata": {},
   "outputs": [
    {
     "data": {
      "text/html": [
       "<div>\n",
       "<style scoped>\n",
       "    .dataframe tbody tr th:only-of-type {\n",
       "        vertical-align: middle;\n",
       "    }\n",
       "\n",
       "    .dataframe tbody tr th {\n",
       "        vertical-align: top;\n",
       "    }\n",
       "\n",
       "    .dataframe thead th {\n",
       "        text-align: right;\n",
       "    }\n",
       "</style>\n",
       "<table border=\"1\" class=\"dataframe\">\n",
       "  <thead>\n",
       "    <tr style=\"text-align: right;\">\n",
       "      <th></th>\n",
       "      <th>mean_fit_time</th>\n",
       "      <th>std_fit_time</th>\n",
       "      <th>mean_score_time</th>\n",
       "      <th>std_score_time</th>\n",
       "      <th>param_max_depth</th>\n",
       "      <th>param_n_estimators</th>\n",
       "      <th>params</th>\n",
       "      <th>split0_test_score</th>\n",
       "      <th>split1_test_score</th>\n",
       "      <th>split2_test_score</th>\n",
       "      <th>split3_test_score</th>\n",
       "      <th>split4_test_score</th>\n",
       "      <th>mean_test_score</th>\n",
       "      <th>std_test_score</th>\n",
       "      <th>rank_test_score</th>\n",
       "    </tr>\n",
       "  </thead>\n",
       "  <tbody>\n",
       "    <tr>\n",
       "      <td>7</td>\n",
       "      <td>26.173135</td>\n",
       "      <td>0.205291</td>\n",
       "      <td>0.453606</td>\n",
       "      <td>0.113193</td>\n",
       "      <td>90</td>\n",
       "      <td>150</td>\n",
       "      <td>{'max_depth': 90, 'n_estimators': 150}</td>\n",
       "      <td>0.975785</td>\n",
       "      <td>0.974865</td>\n",
       "      <td>0.974843</td>\n",
       "      <td>0.971249</td>\n",
       "      <td>0.972147</td>\n",
       "      <td>0.973779</td>\n",
       "      <td>0.001755</td>\n",
       "      <td>1</td>\n",
       "    </tr>\n",
       "    <tr>\n",
       "      <td>8</td>\n",
       "      <td>49.055237</td>\n",
       "      <td>0.495625</td>\n",
       "      <td>0.597715</td>\n",
       "      <td>0.096316</td>\n",
       "      <td>90</td>\n",
       "      <td>300</td>\n",
       "      <td>{'max_depth': 90, 'n_estimators': 300}</td>\n",
       "      <td>0.976682</td>\n",
       "      <td>0.975763</td>\n",
       "      <td>0.974843</td>\n",
       "      <td>0.966757</td>\n",
       "      <td>0.972147</td>\n",
       "      <td>0.973240</td>\n",
       "      <td>0.003578</td>\n",
       "      <td>2</td>\n",
       "    </tr>\n",
       "    <tr>\n",
       "      <td>3</td>\n",
       "      <td>3.490052</td>\n",
       "      <td>0.227924</td>\n",
       "      <td>0.185806</td>\n",
       "      <td>0.020800</td>\n",
       "      <td>60</td>\n",
       "      <td>10</td>\n",
       "      <td>{'max_depth': 60, 'n_estimators': 10}</td>\n",
       "      <td>0.975785</td>\n",
       "      <td>0.980251</td>\n",
       "      <td>0.971249</td>\n",
       "      <td>0.969452</td>\n",
       "      <td>0.966757</td>\n",
       "      <td>0.972701</td>\n",
       "      <td>0.004786</td>\n",
       "      <td>3</td>\n",
       "    </tr>\n",
       "    <tr>\n",
       "      <td>5</td>\n",
       "      <td>41.837705</td>\n",
       "      <td>0.537963</td>\n",
       "      <td>0.545257</td>\n",
       "      <td>0.157936</td>\n",
       "      <td>60</td>\n",
       "      <td>300</td>\n",
       "      <td>{'max_depth': 60, 'n_estimators': 300}</td>\n",
       "      <td>0.976682</td>\n",
       "      <td>0.973968</td>\n",
       "      <td>0.973944</td>\n",
       "      <td>0.965858</td>\n",
       "      <td>0.973046</td>\n",
       "      <td>0.972701</td>\n",
       "      <td>0.003631</td>\n",
       "      <td>3</td>\n",
       "    </tr>\n",
       "    <tr>\n",
       "      <td>10</td>\n",
       "      <td>26.282817</td>\n",
       "      <td>0.783423</td>\n",
       "      <td>0.353923</td>\n",
       "      <td>0.070994</td>\n",
       "      <td>None</td>\n",
       "      <td>150</td>\n",
       "      <td>{'max_depth': None, 'n_estimators': 150}</td>\n",
       "      <td>0.976682</td>\n",
       "      <td>0.974865</td>\n",
       "      <td>0.973944</td>\n",
       "      <td>0.966757</td>\n",
       "      <td>0.971249</td>\n",
       "      <td>0.972701</td>\n",
       "      <td>0.003450</td>\n",
       "      <td>3</td>\n",
       "    </tr>\n",
       "  </tbody>\n",
       "</table>\n",
       "</div>"
      ],
      "text/plain": [
       "    mean_fit_time  std_fit_time  mean_score_time  std_score_time  \\\n",
       "7   26.173135      0.205291      0.453606         0.113193         \n",
       "8   49.055237      0.495625      0.597715         0.096316         \n",
       "3   3.490052       0.227924      0.185806         0.020800         \n",
       "5   41.837705      0.537963      0.545257         0.157936         \n",
       "10  26.282817      0.783423      0.353923         0.070994         \n",
       "\n",
       "   param_max_depth param_n_estimators  \\\n",
       "7   90              150                 \n",
       "8   90              300                 \n",
       "3   60              10                  \n",
       "5   60              300                 \n",
       "10  None            150                 \n",
       "\n",
       "                                      params  split0_test_score  \\\n",
       "7   {'max_depth': 90, 'n_estimators': 150}    0.975785            \n",
       "8   {'max_depth': 90, 'n_estimators': 300}    0.976682            \n",
       "3   {'max_depth': 60, 'n_estimators': 10}     0.975785            \n",
       "5   {'max_depth': 60, 'n_estimators': 300}    0.976682            \n",
       "10  {'max_depth': None, 'n_estimators': 150}  0.976682            \n",
       "\n",
       "    split1_test_score  split2_test_score  split3_test_score  \\\n",
       "7   0.974865           0.974843           0.971249            \n",
       "8   0.975763           0.974843           0.966757            \n",
       "3   0.980251           0.971249           0.969452            \n",
       "5   0.973968           0.973944           0.965858            \n",
       "10  0.974865           0.973944           0.966757            \n",
       "\n",
       "    split4_test_score  mean_test_score  std_test_score  rank_test_score  \n",
       "7   0.972147           0.973779         0.001755        1                \n",
       "8   0.972147           0.973240         0.003578        2                \n",
       "3   0.966757           0.972701         0.004786        3                \n",
       "5   0.973046           0.972701         0.003631        3                \n",
       "10  0.971249           0.972701         0.003450        3                "
      ]
     },
     "execution_count": 46,
     "metadata": {},
     "output_type": "execute_result"
    }
   ],
   "source": [
    "rf = RandomForestClassifier()\n",
    "param = {'n_estimators':[10,150,300],\n",
    "         'max_depth' : [30,60,90,None]}\n",
    "gs = GridSearchCV(rf, param, cv =5, n_jobs=-1)\n",
    "gs_fit = gs.fit(X_count_features,dtext['label'])\n",
    "pd.DataFrame(gs_fit.cv_results_).sort_values('mean_test_score',ascending = False)[0:5]"
   ]
  },
  {
   "cell_type": "markdown",
   "metadata": {},
   "source": [
    "# Exploring GradientBoostingClassifier attributes and hyperparameters"
   ]
  },
  {
   "cell_type": "code",
   "execution_count": 47,
   "metadata": {},
   "outputs": [
    {
     "name": "stdout",
     "output_type": "stream",
     "text": [
      "['_SUPPORTED_LOSS', '__abstractmethods__', '__class__', '__delattr__', '__dict__', '__dir__', '__doc__', '__eq__', '__format__', '__ge__', '__getattribute__', '__getitem__', '__getstate__', '__gt__', '__hash__', '__init__', '__init_subclass__', '__iter__', '__le__', '__len__', '__lt__', '__module__', '__ne__', '__new__', '__reduce__', '__reduce_ex__', '__repr__', '__setattr__', '__setstate__', '__sizeof__', '__str__', '__subclasshook__', '__weakref__', '_abc_impl', '_check_initialized', '_check_params', '_clear_state', '_estimator_type', '_fit_stage', '_fit_stages', '_get_param_names', '_get_tags', '_init_state', '_is_initialized', '_make_estimator', '_raw_predict', '_raw_predict_init', '_required_parameters', '_resize_state', '_staged_raw_predict', '_validate_estimator', '_validate_y', 'apply', 'decision_function', 'feature_importances_', 'fit', 'get_params', 'predict', 'predict_log_proba', 'predict_proba', 'score', 'set_params', 'staged_decision_function', 'staged_predict', 'staged_predict_proba']\n",
      "GradientBoostingClassifier(criterion='friedman_mse', init=None,\n",
      "                           learning_rate=0.1, loss='deviance', max_depth=3,\n",
      "                           max_features=None, max_leaf_nodes=None,\n",
      "                           min_impurity_decrease=0.0, min_impurity_split=None,\n",
      "                           min_samples_leaf=1, min_samples_split=2,\n",
      "                           min_weight_fraction_leaf=0.0, n_estimators=100,\n",
      "                           n_iter_no_change=None, presort='auto',\n",
      "                           random_state=None, subsample=1.0, tol=0.0001,\n",
      "                           validation_fraction=0.1, verbose=0,\n",
      "                           warm_start=False)\n"
     ]
    }
   ],
   "source": [
    "from sklearn.ensemble import GradientBoostingClassifier\n",
    "\n",
    "print(dir(GradientBoostingClassifier))\n",
    "print(GradientBoostingClassifier())"
   ]
  },
  {
   "cell_type": "markdown",
   "metadata": {},
   "source": [
    "## Build our own Search Grid"
   ]
  },
  {
   "cell_type": "code",
   "execution_count": 48,
   "metadata": {},
   "outputs": [],
   "source": [
    "from sklearn.metrics import precision_recall_fscore_support as score\n",
    "from sklearn.model_selection import train_test_split\n",
    "x_train,x_test,y_train,y_test = train_test_split(X_features,dtext['label'],test_size = 0.2)"
   ]
  },
  {
   "cell_type": "code",
   "execution_count": 49,
   "metadata": {},
   "outputs": [],
   "source": [
    "def run_model_gb(n_est,depth,lr):\n",
    "    gbs = GradientBoostingClassifier(n_estimators = n_est, max_depth = depth,learning_rate=lr)\n",
    "    gbs_model =gbs.fit(x_train, y_train)\n",
    "    y_pred = gbs_model.predict(x_test)\n",
    "    precision,recall,fscore,support = score(y_test,y_pred, pos_label = 'spam', average='binary')\n",
    "    print('Est: {} / Depth: {} / Learning Rate: {}  ------ Precision: {} / Recall: {} / Accuracy: {}'.format(n_est,\n",
    "                                                                                                             depth,\n",
    "                                                                                                             lr,\n",
    "                                                                                                             round(precision,3),\n",
    "                                                                                                             round(recall,3),\n",
    "                                                                                                             round(((y_test==y_pred).sum()/len(y_pred)),3)))\n",
    "    "
   ]
  },
  {
   "cell_type": "markdown",
   "metadata": {},
   "source": []
  },
  {
   "cell_type": "code",
   "execution_count": null,
   "metadata": {},
   "outputs": [],
   "source": [
    "for n_est in [50,100,150]:\n",
    "    for depth in [3,7,11,15]:\n",
    "        for lr in [0.01,0.1,1]:\n",
    "            run_model_gb(n_est,depth,lr)"
   ]
  },
  {
   "cell_type": "markdown",
   "metadata": {},
   "source": [
    "## Evaluate Gradient Boosting with GridSearchCV"
   ]
  },
  {
   "cell_type": "code",
   "execution_count": 51,
   "metadata": {},
   "outputs": [],
   "source": [
    "from sklearn.model_selection import GridSearchCV\n",
    "from sklearn.ensemble import GradientBoostingClassifier"
   ]
  },
  {
   "cell_type": "code",
   "execution_count": 52,
   "metadata": {},
   "outputs": [
    {
     "data": {
      "text/html": [
       "<div>\n",
       "<style scoped>\n",
       "    .dataframe tbody tr th:only-of-type {\n",
       "        vertical-align: middle;\n",
       "    }\n",
       "\n",
       "    .dataframe tbody tr th {\n",
       "        vertical-align: top;\n",
       "    }\n",
       "\n",
       "    .dataframe thead th {\n",
       "        text-align: right;\n",
       "    }\n",
       "</style>\n",
       "<table border=\"1\" class=\"dataframe\">\n",
       "  <thead>\n",
       "    <tr style=\"text-align: right;\">\n",
       "      <th></th>\n",
       "      <th>mean_fit_time</th>\n",
       "      <th>std_fit_time</th>\n",
       "      <th>mean_score_time</th>\n",
       "      <th>std_score_time</th>\n",
       "      <th>param_learning_rate</th>\n",
       "      <th>param_max_depth</th>\n",
       "      <th>param_n_estimators</th>\n",
       "      <th>params</th>\n",
       "      <th>split0_test_score</th>\n",
       "      <th>split1_test_score</th>\n",
       "      <th>split2_test_score</th>\n",
       "      <th>split3_test_score</th>\n",
       "      <th>split4_test_score</th>\n",
       "      <th>mean_test_score</th>\n",
       "      <th>std_test_score</th>\n",
       "      <th>rank_test_score</th>\n",
       "    </tr>\n",
       "  </thead>\n",
       "  <tbody>\n",
       "    <tr>\n",
       "      <td>3</td>\n",
       "      <td>546.672533</td>\n",
       "      <td>8.538548</td>\n",
       "      <td>0.410938</td>\n",
       "      <td>0.082895</td>\n",
       "      <td>0.1</td>\n",
       "      <td>11</td>\n",
       "      <td>150</td>\n",
       "      <td>{'learning_rate': 0.1, 'max_depth': 11, 'n_estimators': 150}</td>\n",
       "      <td>0.967713</td>\n",
       "      <td>0.978456</td>\n",
       "      <td>0.969452</td>\n",
       "      <td>0.973046</td>\n",
       "      <td>0.967655</td>\n",
       "      <td>0.971264</td>\n",
       "      <td>0.004095</td>\n",
       "      <td>1</td>\n",
       "    </tr>\n",
       "    <tr>\n",
       "      <td>0</td>\n",
       "      <td>226.162358</td>\n",
       "      <td>2.474101</td>\n",
       "      <td>0.411787</td>\n",
       "      <td>0.049009</td>\n",
       "      <td>0.1</td>\n",
       "      <td>7</td>\n",
       "      <td>100</td>\n",
       "      <td>{'learning_rate': 0.1, 'max_depth': 7, 'n_estimators': 100}</td>\n",
       "      <td>0.967713</td>\n",
       "      <td>0.982047</td>\n",
       "      <td>0.969452</td>\n",
       "      <td>0.970350</td>\n",
       "      <td>0.965858</td>\n",
       "      <td>0.971085</td>\n",
       "      <td>0.005694</td>\n",
       "      <td>2</td>\n",
       "    </tr>\n",
       "    <tr>\n",
       "      <td>5</td>\n",
       "      <td>570.440940</td>\n",
       "      <td>27.367278</td>\n",
       "      <td>0.226894</td>\n",
       "      <td>0.040211</td>\n",
       "      <td>0.1</td>\n",
       "      <td>15</td>\n",
       "      <td>150</td>\n",
       "      <td>{'learning_rate': 0.1, 'max_depth': 15, 'n_estimators': 150}</td>\n",
       "      <td>0.969507</td>\n",
       "      <td>0.976661</td>\n",
       "      <td>0.968553</td>\n",
       "      <td>0.972147</td>\n",
       "      <td>0.968553</td>\n",
       "      <td>0.971085</td>\n",
       "      <td>0.003083</td>\n",
       "      <td>2</td>\n",
       "    </tr>\n",
       "    <tr>\n",
       "      <td>2</td>\n",
       "      <td>381.302286</td>\n",
       "      <td>4.821574</td>\n",
       "      <td>0.371876</td>\n",
       "      <td>0.027399</td>\n",
       "      <td>0.1</td>\n",
       "      <td>11</td>\n",
       "      <td>100</td>\n",
       "      <td>{'learning_rate': 0.1, 'max_depth': 11, 'n_estimators': 100}</td>\n",
       "      <td>0.966816</td>\n",
       "      <td>0.977558</td>\n",
       "      <td>0.967655</td>\n",
       "      <td>0.973046</td>\n",
       "      <td>0.968553</td>\n",
       "      <td>0.970726</td>\n",
       "      <td>0.004038</td>\n",
       "      <td>4</td>\n",
       "    </tr>\n",
       "    <tr>\n",
       "      <td>4</td>\n",
       "      <td>524.719181</td>\n",
       "      <td>37.673752</td>\n",
       "      <td>0.372563</td>\n",
       "      <td>0.059171</td>\n",
       "      <td>0.1</td>\n",
       "      <td>15</td>\n",
       "      <td>100</td>\n",
       "      <td>{'learning_rate': 0.1, 'max_depth': 15, 'n_estimators': 100}</td>\n",
       "      <td>0.969507</td>\n",
       "      <td>0.974865</td>\n",
       "      <td>0.968553</td>\n",
       "      <td>0.973046</td>\n",
       "      <td>0.967655</td>\n",
       "      <td>0.970726</td>\n",
       "      <td>0.002762</td>\n",
       "      <td>4</td>\n",
       "    </tr>\n",
       "  </tbody>\n",
       "</table>\n",
       "</div>"
      ],
      "text/plain": [
       "   mean_fit_time  std_fit_time  mean_score_time  std_score_time  \\\n",
       "3  546.672533     8.538548      0.410938         0.082895         \n",
       "0  226.162358     2.474101      0.411787         0.049009         \n",
       "5  570.440940     27.367278     0.226894         0.040211         \n",
       "2  381.302286     4.821574      0.371876         0.027399         \n",
       "4  524.719181     37.673752     0.372563         0.059171         \n",
       "\n",
       "  param_learning_rate param_max_depth param_n_estimators  \\\n",
       "3  0.1                 11              150                 \n",
       "0  0.1                 7               100                 \n",
       "5  0.1                 15              150                 \n",
       "2  0.1                 11              100                 \n",
       "4  0.1                 15              100                 \n",
       "\n",
       "                                                         params  \\\n",
       "3  {'learning_rate': 0.1, 'max_depth': 11, 'n_estimators': 150}   \n",
       "0  {'learning_rate': 0.1, 'max_depth': 7, 'n_estimators': 100}    \n",
       "5  {'learning_rate': 0.1, 'max_depth': 15, 'n_estimators': 150}   \n",
       "2  {'learning_rate': 0.1, 'max_depth': 11, 'n_estimators': 100}   \n",
       "4  {'learning_rate': 0.1, 'max_depth': 15, 'n_estimators': 100}   \n",
       "\n",
       "   split0_test_score  split1_test_score  split2_test_score  split3_test_score  \\\n",
       "3  0.967713           0.978456           0.969452           0.973046            \n",
       "0  0.967713           0.982047           0.969452           0.970350            \n",
       "5  0.969507           0.976661           0.968553           0.972147            \n",
       "2  0.966816           0.977558           0.967655           0.973046            \n",
       "4  0.969507           0.974865           0.968553           0.973046            \n",
       "\n",
       "   split4_test_score  mean_test_score  std_test_score  rank_test_score  \n",
       "3  0.967655           0.971264         0.004095        1                \n",
       "0  0.965858           0.971085         0.005694        2                \n",
       "5  0.968553           0.971085         0.003083        2                \n",
       "2  0.968553           0.970726         0.004038        4                \n",
       "4  0.967655           0.970726         0.002762        4                "
      ]
     },
     "execution_count": 52,
     "metadata": {},
     "output_type": "execute_result"
    }
   ],
   "source": [
    "gs = GradientBoostingClassifier()\n",
    "param = {'n_estimators':[100,150],\n",
    "         'max_depth' : [7,11,15],\n",
    "         'learning_rate' : [0.1]}\n",
    "gsv = GridSearchCV(gs, param, cv =5, n_jobs=-1)\n",
    "gsv_fit = gsv.fit(X_features,dtext['label'])\n",
    "pd.DataFrame(gsv_fit.cv_results_).sort_values('mean_test_score',ascending = False)[0:5]"
   ]
  },
  {
   "cell_type": "code",
   "execution_count": 53,
   "metadata": {},
   "outputs": [
    {
     "data": {
      "text/html": [
       "<div>\n",
       "<style scoped>\n",
       "    .dataframe tbody tr th:only-of-type {\n",
       "        vertical-align: middle;\n",
       "    }\n",
       "\n",
       "    .dataframe tbody tr th {\n",
       "        vertical-align: top;\n",
       "    }\n",
       "\n",
       "    .dataframe thead th {\n",
       "        text-align: right;\n",
       "    }\n",
       "</style>\n",
       "<table border=\"1\" class=\"dataframe\">\n",
       "  <thead>\n",
       "    <tr style=\"text-align: right;\">\n",
       "      <th></th>\n",
       "      <th>mean_fit_time</th>\n",
       "      <th>std_fit_time</th>\n",
       "      <th>mean_score_time</th>\n",
       "      <th>std_score_time</th>\n",
       "      <th>param_learning_rate</th>\n",
       "      <th>param_max_depth</th>\n",
       "      <th>param_n_estimators</th>\n",
       "      <th>params</th>\n",
       "      <th>split0_test_score</th>\n",
       "      <th>split1_test_score</th>\n",
       "      <th>split2_test_score</th>\n",
       "      <th>split3_test_score</th>\n",
       "      <th>split4_test_score</th>\n",
       "      <th>mean_test_score</th>\n",
       "      <th>std_test_score</th>\n",
       "      <th>rank_test_score</th>\n",
       "    </tr>\n",
       "  </thead>\n",
       "  <tbody>\n",
       "    <tr>\n",
       "      <td>1</td>\n",
       "      <td>344.815159</td>\n",
       "      <td>9.316061</td>\n",
       "      <td>0.441179</td>\n",
       "      <td>0.060922</td>\n",
       "      <td>0.1</td>\n",
       "      <td>7</td>\n",
       "      <td>150</td>\n",
       "      <td>{'learning_rate': 0.1, 'max_depth': 7, 'n_estimators': 150}</td>\n",
       "      <td>0.972197</td>\n",
       "      <td>0.978456</td>\n",
       "      <td>0.969452</td>\n",
       "      <td>0.969452</td>\n",
       "      <td>0.966757</td>\n",
       "      <td>0.971264</td>\n",
       "      <td>0.003987</td>\n",
       "      <td>1</td>\n",
       "    </tr>\n",
       "    <tr>\n",
       "      <td>5</td>\n",
       "      <td>636.655146</td>\n",
       "      <td>20.072759</td>\n",
       "      <td>0.257881</td>\n",
       "      <td>0.045730</td>\n",
       "      <td>0.1</td>\n",
       "      <td>15</td>\n",
       "      <td>150</td>\n",
       "      <td>{'learning_rate': 0.1, 'max_depth': 15, 'n_estimators': 150}</td>\n",
       "      <td>0.967713</td>\n",
       "      <td>0.975763</td>\n",
       "      <td>0.971249</td>\n",
       "      <td>0.970350</td>\n",
       "      <td>0.969452</td>\n",
       "      <td>0.970905</td>\n",
       "      <td>0.002696</td>\n",
       "      <td>2</td>\n",
       "    </tr>\n",
       "    <tr>\n",
       "      <td>0</td>\n",
       "      <td>231.598291</td>\n",
       "      <td>2.095210</td>\n",
       "      <td>0.480280</td>\n",
       "      <td>0.132117</td>\n",
       "      <td>0.1</td>\n",
       "      <td>7</td>\n",
       "      <td>100</td>\n",
       "      <td>{'learning_rate': 0.1, 'max_depth': 7, 'n_estimators': 100}</td>\n",
       "      <td>0.968610</td>\n",
       "      <td>0.978456</td>\n",
       "      <td>0.969452</td>\n",
       "      <td>0.967655</td>\n",
       "      <td>0.967655</td>\n",
       "      <td>0.970366</td>\n",
       "      <td>0.004101</td>\n",
       "      <td>3</td>\n",
       "    </tr>\n",
       "    <tr>\n",
       "      <td>3</td>\n",
       "      <td>554.777767</td>\n",
       "      <td>9.243096</td>\n",
       "      <td>0.369597</td>\n",
       "      <td>0.020964</td>\n",
       "      <td>0.1</td>\n",
       "      <td>11</td>\n",
       "      <td>150</td>\n",
       "      <td>{'learning_rate': 0.1, 'max_depth': 11, 'n_estimators': 150}</td>\n",
       "      <td>0.968610</td>\n",
       "      <td>0.975763</td>\n",
       "      <td>0.968553</td>\n",
       "      <td>0.969452</td>\n",
       "      <td>0.967655</td>\n",
       "      <td>0.970007</td>\n",
       "      <td>0.002934</td>\n",
       "      <td>4</td>\n",
       "    </tr>\n",
       "    <tr>\n",
       "      <td>2</td>\n",
       "      <td>405.291828</td>\n",
       "      <td>5.578934</td>\n",
       "      <td>0.424322</td>\n",
       "      <td>0.015657</td>\n",
       "      <td>0.1</td>\n",
       "      <td>11</td>\n",
       "      <td>100</td>\n",
       "      <td>{'learning_rate': 0.1, 'max_depth': 11, 'n_estimators': 100}</td>\n",
       "      <td>0.968610</td>\n",
       "      <td>0.973968</td>\n",
       "      <td>0.969452</td>\n",
       "      <td>0.968553</td>\n",
       "      <td>0.966757</td>\n",
       "      <td>0.969468</td>\n",
       "      <td>0.002416</td>\n",
       "      <td>5</td>\n",
       "    </tr>\n",
       "  </tbody>\n",
       "</table>\n",
       "</div>"
      ],
      "text/plain": [
       "   mean_fit_time  std_fit_time  mean_score_time  std_score_time  \\\n",
       "1  344.815159     9.316061      0.441179         0.060922         \n",
       "5  636.655146     20.072759     0.257881         0.045730         \n",
       "0  231.598291     2.095210      0.480280         0.132117         \n",
       "3  554.777767     9.243096      0.369597         0.020964         \n",
       "2  405.291828     5.578934      0.424322         0.015657         \n",
       "\n",
       "  param_learning_rate param_max_depth param_n_estimators  \\\n",
       "1  0.1                 7               150                 \n",
       "5  0.1                 15              150                 \n",
       "0  0.1                 7               100                 \n",
       "3  0.1                 11              150                 \n",
       "2  0.1                 11              100                 \n",
       "\n",
       "                                                         params  \\\n",
       "1  {'learning_rate': 0.1, 'max_depth': 7, 'n_estimators': 150}    \n",
       "5  {'learning_rate': 0.1, 'max_depth': 15, 'n_estimators': 150}   \n",
       "0  {'learning_rate': 0.1, 'max_depth': 7, 'n_estimators': 100}    \n",
       "3  {'learning_rate': 0.1, 'max_depth': 11, 'n_estimators': 150}   \n",
       "2  {'learning_rate': 0.1, 'max_depth': 11, 'n_estimators': 100}   \n",
       "\n",
       "   split0_test_score  split1_test_score  split2_test_score  split3_test_score  \\\n",
       "1  0.972197           0.978456           0.969452           0.969452            \n",
       "5  0.967713           0.975763           0.971249           0.970350            \n",
       "0  0.968610           0.978456           0.969452           0.967655            \n",
       "3  0.968610           0.975763           0.968553           0.969452            \n",
       "2  0.968610           0.973968           0.969452           0.968553            \n",
       "\n",
       "   split4_test_score  mean_test_score  std_test_score  rank_test_score  \n",
       "1  0.966757           0.971264         0.003987        1                \n",
       "5  0.969452           0.970905         0.002696        2                \n",
       "0  0.967655           0.970366         0.004101        3                \n",
       "3  0.967655           0.970007         0.002934        4                \n",
       "2  0.966757           0.969468         0.002416        5                "
      ]
     },
     "execution_count": 53,
     "metadata": {},
     "output_type": "execute_result"
    }
   ],
   "source": [
    "gs = GradientBoostingClassifier()\n",
    "param = {'n_estimators':[100,150],\n",
    "         'max_depth' : [7,11,15],\n",
    "         'learning_rate' : [0.1]}\n",
    "gsv = GridSearchCV(gs, param, cv =5, n_jobs=-1)\n",
    "gsv_fit = gsv.fit(X_count_features,dtext['label'])\n",
    "pd.DataFrame(gsv_fit.cv_results_).sort_values('mean_test_score',ascending = False)[0:5]"
   ]
  },
  {
   "cell_type": "code",
   "execution_count": null,
   "metadata": {},
   "outputs": [],
   "source": []
  }
 ],
 "metadata": {
  "kernelspec": {
   "display_name": "Python 3",
   "language": "python",
   "name": "python3"
  },
  "language_info": {
   "codemirror_mode": {
    "name": "ipython",
    "version": 3
   },
   "file_extension": ".py",
   "mimetype": "text/x-python",
   "name": "python",
   "nbconvert_exporter": "python",
   "pygments_lexer": "ipython3",
   "version": "3.7.4"
  }
 },
 "nbformat": 4,
 "nbformat_minor": 1
}
